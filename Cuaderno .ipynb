{
 "cells": [
  {
   "cell_type": "markdown",
   "metadata": {},
   "source": [
    "<h1 style=\"color:red\">1. Cuaderno de programación en Python aplicada a elementos finitos</h1>\n",
    "\n",
    "<blockquote>\n",
    "    Por: Juan Sebastia Leon Becerra\n",
    "</blockquote>\n",
    "<h2 style=\"color:green\"> Introducción </h2>\n",
    "<p style=\"color:black\" \"font-size:200%\">Python es un lenguaje de programación multiparadigma (Que hace muchas cosas: programación orientada a bojetos, programación funcional, otros) ,  interpretado (analiza y ejecuta otros programas sin compilar / hay librerias para generar mis .exe), dinámico (que una misma variable puede tomar valores de distinto tipo en distinto momento.) Multiplataforma (Linux, Windows, Mac, etc, WEb, local, Cloud, PC, celulares, RaspberryPi) </p>\n",
    "\n",
    "Para TuToriales están: https://www.w3schools.com/python/default.asp\n",
    "    En Youtube: Sentdex, Pildoras Informáticas, Math: 3 blue 1 Brown: series de Esenciales en algebra lineal y la guia turística de las ecuaciones diferenciales\n",
    "    \n",
    "La idea con este cuaderno es presentar una guía rápida para el uso de las funciones básicas. Contiene:\n",
    "\n",
    "1. Uso del notebook y Markdown.\n",
    "2.  Comentarios y Variables.\n",
    "3. Entradas y salidas.\n",
    "4. Strings.\n",
    "5. Lists and tuples.\n",
    "6. Dictionaries.\n",
    "7. If conditional.\n",
    "8. Loops : While and For.\n",
    "9. Errores y ayuda.\n",
    "10. EJERCICIO PARTE 1\n",
    "\n",
    "**En el segundo cuaderno (Intermedio) se presentan:** Creación de funciones, uso de librerías e importación de módulos, manejo de archivos, trabajos con algunas librerías: Matemáticas: Numpy , Graficadoras: matplotlib y bokeh, data analysis: Pandas. \n",
    "\n",
    "**En el tercer cuaderno (Avanzado) se presentan los conceptos de:** interfaz gráfica de usuario (GUI) con TKinter, programación orientada a objetos (OOP) , manejo de base de datos en SQLite con librería Psycopg2, compilar un .exe.  \n"
   ]
  },
  {
   "cell_type": "markdown",
   "metadata": {},
   "source": [
    "<h2 style=\"color:green\"> 1. Jupyter Notebook & Markdown </h2>\n",
    "\n",
    "Jupyter NOtebook es un cuaderno de anotaciones que está dividido por celdas, cada celda es una celda de texto o de código,  permite correr en Python 3 el código. En **file** se puede abrir, guardar el archivo, exportar a pdf, html u otros. en **Edit** se presenta el manejo de las celdas: cortar, copiar, pegar, unir. En **View** se adjustan los parámetros de la vista como la barra de herramientas.  **Insert** permite insertar una celda más arriba o abajo de la posición de la celda actual. **Cell** Permite ejecutar la celda, un atajo es usar conntrol + enter. Finalmente **Help** enlaza a los manuales y la ayuda del Notebook, python y sus librerías. \n",
    "\n",
    "*Tomado de Wikipedia:*\n",
    "**Markdown** es un lenguaje de marcado ligero que trata de conseguir la máxima legibilidad y facilidad de publicación tanto en su forma de entrada como de salida, inspirándose en muchas convenciones existentes para marcar mensajes de correo electrónico usando texto plano. \n",
    "\n",
    "Para ver el código markdown simplemente hacer doble click en la celda\n",
    "\n",
    "# Encabezado h1 \n",
    "## Encabezado h2\n",
    "### Encabezado h3\n",
    "#### Encabezado h4\n",
    "##### Encabezado h5\n",
    "###### Encabezado h6\n",
    "<pre><code>This is a code block.\n",
    "</code></pre>\n",
    "\n",
    "$ \\sum_{\\forall i}{x_i^{2}} $\n"
   ]
  },
  {
   "cell_type": "markdown",
   "metadata": {},
   "source": [
    "<h2 style=\"color:green\">2. Comentarios y Variables</h2>\n",
    "\n",
    "Python al ser un software dinámico no necesita que le digamos cual es la naturaleza de la varibale que se declara, además es **sensible a las mayúsculas**: la variable *A* no es lo mismo que *a*. Los tipos de variables son: Int (Números enteros), Float (Números reales con decimal), complex (números complejos ej. 1+1j), str (Strings, las strings son cadenas de caracteres), booleanos (True or False) y objetos. \n",
    "\n",
    "<pre><code>Juan=2 #Juan es un entero \n",
    "X=3.0 #Float\n",
    "y,z,w= \"Lunes\", \"Martes\", \"Miércoles\" # en esta linea se declaran 3 variables String. \n",
    "</code></pre>\n",
    "\n",
    "Para conocer el tipo de una variable se usa la funcion type(). "
   ]
  },
  {
   "cell_type": "code",
   "execution_count": 1,
   "metadata": {},
   "outputs": [
    {
     "data": {
      "text/plain": [
       "int"
      ]
     },
     "execution_count": 1,
     "metadata": {},
     "output_type": "execute_result"
    }
   ],
   "source": [
    "type(3) #Poner otras variables y verificar el tipo "
   ]
  },
  {
   "cell_type": "code",
   "execution_count": null,
   "metadata": {},
   "outputs": [],
   "source": [
    "\"\"\"\n",
    "Un comentario sobre los comentarios... \n",
    "Este es un comentario multilinea y no apareceráal ejecutar el codigo, \n",
    "pero son útiles para indicar qué significa cada variable, unidades, etc..  \n",
    "\"\"\"\n",
    "#Este es un comentario de una sola linea\n",
    "a=1\n",
    "print(a)"
   ]
  },
  {
   "cell_type": "code",
   "execution_count": null,
   "metadata": {},
   "outputs": [],
   "source": [
    "#Operaciones matemáticas\n",
    "print(1-2) #Suma y resta\n",
    "print(3*2) #Multiplicación\n",
    "print(21/7) #division\n",
    "print(5**3) #Potenciación\n",
    "print(5//3) #Division entera\n",
    "print(5%3) # módulo"
   ]
  },
  {
   "cell_type": "code",
   "execution_count": null,
   "metadata": {},
   "outputs": [],
   "source": [
    "#Si trabajo en una celda solo muestra el ultimo valor o realiza la ultima accion aunque todos\n",
    "#Se ejecutan\n",
    "1-1\n",
    "2-5\n",
    "3*12"
   ]
  },
  {
   "cell_type": "markdown",
   "metadata": {},
   "source": [
    "Las reglas de Precedencia y asociavidad se usan. 5+w^2-1  (5+w)^2-1. Las operaciones de comparación establecen la relación entre dos variables y su salida es un booleano (Verdadero o falso)"
   ]
  },
  {
   "cell_type": "code",
   "execution_count": null,
   "metadata": {},
   "outputs": [],
   "source": [
    "\"\"\"\n",
    "OPERACIONES DE COMPARACIÓN  < <= > >= : Menor, menor igual, mayor, mayor igual. \n",
    "!= , == diferente e igual\n",
    "\"\"\"\n",
    "print(0<2)\n",
    "print(\"3.0\"==3.0)\n",
    "a=3\n",
    "print(a==3.0)\n",
    "#Para mostrar varias lineas, usar print\n",
    "print (\"Hola soy un string y estos tambien:\" + \" 2 \" + 3*\"s\")\n",
    "print(1!=2) # diferente"
   ]
  },
  {
   "cell_type": "markdown",
   "metadata": {},
   "source": [
    "Los operadores para **string** son + --> Concatenación y * --> Repetición. \n",
    "<blockquote> Las variables se pueden convertir de un tipo a otro ej: str(15), int (3.55) float(3) bool(0), int(\"3\") </blockquote> "
   ]
  },
  {
   "cell_type": "markdown",
   "metadata": {},
   "source": [
    "<h2 style=\"color:green\">3. Entradas y Salidas</h2>\n",
    "\n",
    "La función **input** es de entrada y las funciones **print y return** son de salida. La diferencia entre print y return es que print mostrará el valor de la función y return no. Para el manejo de funciones se deberá usar *return* casi siempre. Print da como resultado una variable de tipo NoNe "
   ]
  },
  {
   "cell_type": "code",
   "execution_count": null,
   "metadata": {},
   "outputs": [],
   "source": [
    "a=input(\"Hola, como te llamas? \") \n",
    "#Input da como resultado un string, si la entrada es un numero, éste se deberá convertir...\n",
    "print(a + \", Que nombre tan interesante!!\" + \"Ja \"*3)"
   ]
  },
  {
   "cell_type": "markdown",
   "metadata": {},
   "source": [
    "<h2 style=\"color:green\">4. Strings</h2>\n",
    "\n",
    "Los strings son cadenas de caracteres, se declaran con comillas simples 'f' o comillas dobles \"f\". Las operaciones que permiten son concatenación y repetición. Algunas funciones útiles son: String[indice] accede al caracter en la posición dada. Acceder a subpalabras string[inicio:final]\n",
    "    \\n inserta nueva linea. len()--> Largo del string. String.upper(*nombrestring*) convierte a minúscula. String.lower(). Strip(.)--> Remueve todos los puntos. str.replace(viejo,nuevo)--> Remplaza \"viejo\" por \"nuevo\""
   ]
  },
  {
   "cell_type": "code",
   "execution_count": null,
   "metadata": {},
   "outputs": [],
   "source": [
    "#Ejercicio: Declare 2 Strings diferentes y use todas las funciones de la celda superior\n"
   ]
  },
  {
   "cell_type": "markdown",
   "metadata": {},
   "source": [
    "<h2 style=\"color:green\">5. Lists and Tuples</h2>\n",
    "\n",
    "Las listas son secuencias de elementos ordenados y de cualquier tipo. Las listas son **Mutables**\n",
    "Se declaran entre brackets [] \n",
    "<pre><code>Milista=['Daft Punk', \"Maluma\", 'Queen', \"Diomedes Diaz\", \"Gims\", 'Britney Spears']\n",
    "</code></pre>\n",
    "Para acceder a la posición de un elemento(s) uso Milista[posición], la posición empieza desde cero. \n",
    "<pre><code>Milista=[1:3]\n",
    "</code></pre>\n",
    "Se ve entonces que Queen está después de Maluma !\n"
   ]
  },
  {
   "cell_type": "code",
   "execution_count": 3,
   "metadata": {},
   "outputs": [
    {
     "name": "stdout",
     "output_type": "stream",
     "text": [
      "['Maluma', 'Queen']\n"
     ]
    },
    {
     "ename": "ValueError",
     "evalue": "list.remove(x): x not in list",
     "output_type": "error",
     "traceback": [
      "\u001b[1;31m---------------------------------------------------------------------------\u001b[0m",
      "\u001b[1;31mValueError\u001b[0m                                Traceback (most recent call last)",
      "\u001b[1;32m<ipython-input-3-815f3df0472d>\u001b[0m in \u001b[0;36m<module>\u001b[1;34m\u001b[0m\n\u001b[0;32m     10\u001b[0m \u001b[0mMilista\u001b[0m\u001b[1;33m.\u001b[0m\u001b[0mappend\u001b[0m\u001b[1;33m(\u001b[0m\u001b[1;34m\"\"\u001b[0m\u001b[1;33m)\u001b[0m\u001b[1;33m\u001b[0m\u001b[1;33m\u001b[0m\u001b[0m\n\u001b[0;32m     11\u001b[0m \u001b[1;31m#Eliminar un artista\u001b[0m\u001b[1;33m\u001b[0m\u001b[1;33m\u001b[0m\u001b[1;33m\u001b[0m\u001b[0m\n\u001b[1;32m---> 12\u001b[1;33m \u001b[0mMilista\u001b[0m\u001b[1;33m.\u001b[0m\u001b[0mremove\u001b[0m\u001b[1;33m(\u001b[0m\u001b[1;34m'Daft Punk'\u001b[0m\u001b[1;33m)\u001b[0m\u001b[1;33m\u001b[0m\u001b[1;33m\u001b[0m\u001b[0m\n\u001b[0m\u001b[0;32m     13\u001b[0m \u001b[1;31m#Qué hace pop?\u001b[0m\u001b[1;33m\u001b[0m\u001b[1;33m\u001b[0m\u001b[1;33m\u001b[0m\u001b[0m\n\u001b[0;32m     14\u001b[0m \u001b[0mMilista\u001b[0m\u001b[1;33m.\u001b[0m\u001b[0mpop\u001b[0m\u001b[1;33m(\u001b[0m\u001b[1;36m4\u001b[0m\u001b[1;33m)\u001b[0m\u001b[1;33m\u001b[0m\u001b[1;33m\u001b[0m\u001b[0m\n",
      "\u001b[1;31mValueError\u001b[0m: list.remove(x): x not in list"
     ]
    }
   ],
   "source": [
    "Milista=['Daft Punk', \"Maluma\", 'Queen', \"Diomedes Diaz\", \"Gims\", 'Britney Spears']\n",
    "#¿Quienes son?\n",
    "Milista[0] #-->\n",
    "print(Milista[1:3])\n",
    "Milista[::-1]\n",
    "Milista[1:5:2]\n",
    "#Cambiar a Diomedes Diaz por su artista favorito, si él es su favorito por el siguiente\n",
    "Milista[0]=\"Mi artista\"\n",
    "#Agregar un artista a la lista\n",
    "Milista.append(\"\")\n",
    "#Eliminar un artista\n",
    "Milista.remove('Daft Punk')\n",
    "#Qué hace pop?\n",
    "Milista.pop(4)"
   ]
  },
  {
   "cell_type": "code",
   "execution_count": null,
   "metadata": {},
   "outputs": [],
   "source": [
    "#TUPLAS\n",
    "Mitupla=(1,2,\"three\",4)\n",
    "print(Mitupla[1:3])\n",
    "#Mitupla[0]=\"2\" # No es posible porque las tuplas son NO MUTABLES"
   ]
  },
  {
   "cell_type": "markdown",
   "metadata": {},
   "source": [
    "<h2 style=\"color:green\">6. Dictionaries</h2>\n",
    "\n",
    "De otra parte, los diccionarios están divididos en pares.  \n",
    "<pre><code>Songs={'Daft punk':\"Face to face\", 'Maluma':4, 'Queen':\"I want it all\", 'Gims'=\"Zombie\"}</code></pre>\n",
    "Algunos métodos son **keys, values y pop**. Songs.metodo()"
   ]
  },
  {
   "cell_type": "code",
   "execution_count": null,
   "metadata": {},
   "outputs": [],
   "source": [
    "\"\"\"\n",
    "Determinar qué hace cada método y escribir en una un comentario de una linea al frente. \n",
    "\"\"\"\n",
    "Songs={'Daft punk':\"Face to face\", 'Maluma':4, 'Queen':\"I want it all\", 'Gims':\"Zombie\"}\n",
    "#Agregar un nuevo par\n",
    "Songs[\"Bach\"]=\"suite 1 in G\"\n",
    "print(Songs)"
   ]
  },
  {
   "cell_type": "markdown",
   "metadata": {},
   "source": [
    "<h2 style=\"color:green\">7. IF conditionals</h2>\n",
    "\n",
    "El condicional IF se usa cuando se debe tomar diferentes acciones basado en una condición. \n",
    "<pre><code>if (condicion):\n",
    "    Acciones si se cumple la condicion\n",
    "else:\n",
    "    acciones si no se cumple la condición\n",
    "</code></pre>\n",
    "No siempre debe usarse el else y a diferencia de otros lenguajes no es necesario cerrar el if. **Es importante:** recordar la identación (con Tab o 4 espacios) y los dos puntos luego de la condición.  "
   ]
  },
  {
   "cell_type": "code",
   "execution_count": null,
   "metadata": {},
   "outputs": [],
   "source": [
    "#Comparando dos valores\n",
    "a=1\n",
    "x=2\n",
    "if a>x:\n",
    "    print (\"A es mayor a X\")\n",
    "else:\n",
    "    print(\"A no es mayor a X\")"
   ]
  },
  {
   "cell_type": "code",
   "execution_count": null,
   "metadata": {},
   "outputs": [],
   "source": [
    "#Qué hace ELIF?\n",
    "a = 200\n",
    "b = 33\n",
    "if b > a:\n",
    "  print(\"b is greater than a\")\n",
    "elif a == b:\n",
    "  print(\"a and b are equal\")\n",
    "else:\n",
    "  print(\"a is greater than b\")"
   ]
  },
  {
   "cell_type": "markdown",
   "metadata": {},
   "source": [
    "<h2 style=\"color:green\">8. Loops: While and For</h2>\n",
    "\n",
    "Los ciclos permiten repetir varias acciones, el ciclo FOR se usa para repetir una acción un determinado número de veces, mientras que el While se usa para hacer un ciclo hasta que se cumpla  una condición que lo finaliza. "
   ]
  },
  {
   "cell_type": "code",
   "execution_count": null,
   "metadata": {},
   "outputs": [],
   "source": [
    "i = 1\n",
    "while i < 6:\n",
    "  print(i)\n",
    "  i += 1\n",
    "#Unos declaraciones útiles para el ciclo While son break y continue. Revisar W3schools"
   ]
  },
  {
   "cell_type": "code",
   "execution_count": null,
   "metadata": {},
   "outputs": [],
   "source": [
    "fruits = [\"apple\", \"banana\", \"cherry\"]\n",
    "for x in fruits:\n",
    "  if x == \"banana\":\n",
    "    continue\n",
    "  print(x)"
   ]
  },
  {
   "cell_type": "code",
   "execution_count": null,
   "metadata": {},
   "outputs": [],
   "source": [
    "for x in range(6):\n",
    "  print(x)"
   ]
  },
  {
   "cell_type": "markdown",
   "metadata": {},
   "source": [
    "<h2 style=\"color:green\">9. Ayuda y Errores</h2>\n",
    "\n",
    "Los errores que puede arrojar Python son de varios tipo: Syntax, Type, Name (Variable no declarada). Se recomienda: 1. Mantener la calma. 2.Repasar el código. 3.Buscar en google o en stackoverflow. 4. Para el manejo de los errores tambien se puede usar las funciones *try* y *except*\n",
    "Para ver todas las funciones usar el comando <pre><code>dir(__builtins__)</code> </pre> #Dar doble click o para usar la ayuda de una función se usa help(funcion) ej help(len)\n"
   ]
  },
  {
   "cell_type": "code",
   "execution_count": 4,
   "metadata": {},
   "outputs": [
    {
     "data": {
      "text/plain": [
       "['ArithmeticError',\n",
       " 'AssertionError',\n",
       " 'AttributeError',\n",
       " 'BaseException',\n",
       " 'BlockingIOError',\n",
       " 'BrokenPipeError',\n",
       " 'BufferError',\n",
       " 'BytesWarning',\n",
       " 'ChildProcessError',\n",
       " 'ConnectionAbortedError',\n",
       " 'ConnectionError',\n",
       " 'ConnectionRefusedError',\n",
       " 'ConnectionResetError',\n",
       " 'DeprecationWarning',\n",
       " 'EOFError',\n",
       " 'Ellipsis',\n",
       " 'EnvironmentError',\n",
       " 'Exception',\n",
       " 'False',\n",
       " 'FileExistsError',\n",
       " 'FileNotFoundError',\n",
       " 'FloatingPointError',\n",
       " 'FutureWarning',\n",
       " 'GeneratorExit',\n",
       " 'IOError',\n",
       " 'ImportError',\n",
       " 'ImportWarning',\n",
       " 'IndentationError',\n",
       " 'IndexError',\n",
       " 'InterruptedError',\n",
       " 'IsADirectoryError',\n",
       " 'KeyError',\n",
       " 'KeyboardInterrupt',\n",
       " 'LookupError',\n",
       " 'MemoryError',\n",
       " 'ModuleNotFoundError',\n",
       " 'NameError',\n",
       " 'None',\n",
       " 'NotADirectoryError',\n",
       " 'NotImplemented',\n",
       " 'NotImplementedError',\n",
       " 'OSError',\n",
       " 'OverflowError',\n",
       " 'PendingDeprecationWarning',\n",
       " 'PermissionError',\n",
       " 'ProcessLookupError',\n",
       " 'RecursionError',\n",
       " 'ReferenceError',\n",
       " 'ResourceWarning',\n",
       " 'RuntimeError',\n",
       " 'RuntimeWarning',\n",
       " 'StopAsyncIteration',\n",
       " 'StopIteration',\n",
       " 'SyntaxError',\n",
       " 'SyntaxWarning',\n",
       " 'SystemError',\n",
       " 'SystemExit',\n",
       " 'TabError',\n",
       " 'TimeoutError',\n",
       " 'True',\n",
       " 'TypeError',\n",
       " 'UnboundLocalError',\n",
       " 'UnicodeDecodeError',\n",
       " 'UnicodeEncodeError',\n",
       " 'UnicodeError',\n",
       " 'UnicodeTranslateError',\n",
       " 'UnicodeWarning',\n",
       " 'UserWarning',\n",
       " 'ValueError',\n",
       " 'Warning',\n",
       " 'WindowsError',\n",
       " 'ZeroDivisionError',\n",
       " '__IPYTHON__',\n",
       " '__build_class__',\n",
       " '__debug__',\n",
       " '__doc__',\n",
       " '__import__',\n",
       " '__loader__',\n",
       " '__name__',\n",
       " '__package__',\n",
       " '__spec__',\n",
       " 'abs',\n",
       " 'all',\n",
       " 'any',\n",
       " 'ascii',\n",
       " 'bin',\n",
       " 'bool',\n",
       " 'breakpoint',\n",
       " 'bytearray',\n",
       " 'bytes',\n",
       " 'callable',\n",
       " 'chr',\n",
       " 'classmethod',\n",
       " 'compile',\n",
       " 'complex',\n",
       " 'copyright',\n",
       " 'credits',\n",
       " 'delattr',\n",
       " 'dict',\n",
       " 'dir',\n",
       " 'display',\n",
       " 'divmod',\n",
       " 'enumerate',\n",
       " 'eval',\n",
       " 'exec',\n",
       " 'filter',\n",
       " 'float',\n",
       " 'format',\n",
       " 'frozenset',\n",
       " 'get_ipython',\n",
       " 'getattr',\n",
       " 'globals',\n",
       " 'hasattr',\n",
       " 'hash',\n",
       " 'help',\n",
       " 'hex',\n",
       " 'id',\n",
       " 'input',\n",
       " 'int',\n",
       " 'isinstance',\n",
       " 'issubclass',\n",
       " 'iter',\n",
       " 'len',\n",
       " 'license',\n",
       " 'list',\n",
       " 'locals',\n",
       " 'map',\n",
       " 'max',\n",
       " 'memoryview',\n",
       " 'min',\n",
       " 'next',\n",
       " 'object',\n",
       " 'oct',\n",
       " 'open',\n",
       " 'ord',\n",
       " 'pow',\n",
       " 'print',\n",
       " 'property',\n",
       " 'range',\n",
       " 'repr',\n",
       " 'reversed',\n",
       " 'round',\n",
       " 'set',\n",
       " 'setattr',\n",
       " 'slice',\n",
       " 'sorted',\n",
       " 'staticmethod',\n",
       " 'str',\n",
       " 'sum',\n",
       " 'super',\n",
       " 'tuple',\n",
       " 'type',\n",
       " 'vars',\n",
       " 'zip']"
      ]
     },
     "execution_count": 4,
     "metadata": {},
     "output_type": "execute_result"
    }
   ],
   "source": [
    "#Pedir ayuda de una función dada en el directorio\n",
    "dir(__builtins__)"
   ]
  },
  {
   "cell_type": "markdown",
   "metadata": {},
   "source": [
    "<h2> EJERCICIO </h2>\n",
    "Una barra sometida a esfuerzos axiales\n",
    "\n",
    "Construya un programa en para el cálculo de los desplazamientos axiales de una barra usando el método de elementos finitos. \n",
    "\n",
    "\n"
   ]
  }
 ],
 "metadata": {
  "kernelspec": {
   "display_name": "Python 3",
   "language": "python",
   "name": "python3"
  },
  "language_info": {
   "codemirror_mode": {
    "name": "ipython",
    "version": 3
   },
   "file_extension": ".py",
   "mimetype": "text/x-python",
   "name": "python",
   "nbconvert_exporter": "python",
   "pygments_lexer": "ipython3",
   "version": "3.7.2"
  }
 },
 "nbformat": 4,
 "nbformat_minor": 2
}
